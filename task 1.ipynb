{
 "cells": [
  {
   "cell_type": "markdown",
   "id": "f61c4781",
   "metadata": {},
   "source": [
    "# Disignation Based On Skills"
   ]
  },
  {
   "cell_type": "code",
   "execution_count": 21,
   "id": "0b753a88",
   "metadata": {},
   "outputs": [],
   "source": [
    "#importing libraries\n",
    "import ast\n",
    "import os\n",
    "import pandas as pd\n",
    "import numpy as np\n",
    "os.chdir(\"D:\\internship\")"
   ]
  },
  {
   "cell_type": "code",
   "execution_count": 2,
   "id": "41099754",
   "metadata": {},
   "outputs": [
    {
     "data": {
      "text/html": [
       "<div>\n",
       "<style scoped>\n",
       "    .dataframe tbody tr th:only-of-type {\n",
       "        vertical-align: middle;\n",
       "    }\n",
       "\n",
       "    .dataframe tbody tr th {\n",
       "        vertical-align: top;\n",
       "    }\n",
       "\n",
       "    .dataframe thead th {\n",
       "        text-align: right;\n",
       "    }\n",
       "</style>\n",
       "<table border=\"1\" class=\"dataframe\">\n",
       "  <thead>\n",
       "    <tr style=\"text-align: right;\">\n",
       "      <th></th>\n",
       "      <th>Name</th>\n",
       "      <th>Skills</th>\n",
       "    </tr>\n",
       "  </thead>\n",
       "  <tbody>\n",
       "    <tr>\n",
       "      <th>0</th>\n",
       "      <td>Maurice Valdez</td>\n",
       "      <td>['reactjs', 'django', 'numpy', 'nodejs', 'html']</td>\n",
       "    </tr>\n",
       "    <tr>\n",
       "      <th>1</th>\n",
       "      <td>Samuel Green</td>\n",
       "      <td>['laravel', 'css', 'laravel']</td>\n",
       "    </tr>\n",
       "    <tr>\n",
       "      <th>2</th>\n",
       "      <td>Michael Rodgers</td>\n",
       "      <td>['css', 'reactjs', 'flask', 'nodejs', 'nodejs']</td>\n",
       "    </tr>\n",
       "    <tr>\n",
       "      <th>3</th>\n",
       "      <td>Lindsey Leach</td>\n",
       "      <td>['nodejs', 'html', 'html', 'reactjs']</td>\n",
       "    </tr>\n",
       "    <tr>\n",
       "      <th>4</th>\n",
       "      <td>Kimberly Hartman</td>\n",
       "      <td>['matpotlib', 'nosql']</td>\n",
       "    </tr>\n",
       "  </tbody>\n",
       "</table>\n",
       "</div>"
      ],
      "text/plain": [
       "               Name                                            Skills\n",
       "0    Maurice Valdez  ['reactjs', 'django', 'numpy', 'nodejs', 'html']\n",
       "1      Samuel Green                     ['laravel', 'css', 'laravel']\n",
       "2   Michael Rodgers   ['css', 'reactjs', 'flask', 'nodejs', 'nodejs']\n",
       "3     Lindsey Leach             ['nodejs', 'html', 'html', 'reactjs']\n",
       "4  Kimberly Hartman                            ['matpotlib', 'nosql']"
      ]
     },
     "execution_count": 2,
     "metadata": {},
     "output_type": "execute_result"
    }
   ],
   "source": [
    "#reading data\n",
    "d=pd.read_excel(\"skill_data.xlsx\")\n",
    "d.head()"
   ]
  },
  {
   "cell_type": "code",
   "execution_count": 3,
   "id": "eb2243ea",
   "metadata": {},
   "outputs": [],
   "source": [
    "d1=d.copy()"
   ]
  },
  {
   "cell_type": "code",
   "execution_count": 4,
   "id": "810357c8",
   "metadata": {},
   "outputs": [],
   "source": [
    "web_devloper_skills = [\n",
    "    'django',\n",
    "    'html',\n",
    "    'css',\n",
    "    'nodejs',\n",
    "    'reactjs',\n",
    "    'nodejs',\n",
    "    'flask',\n",
    "    'laravel'\n",
    "]\n",
    "\n",
    "machine_learning_skills = [\n",
    "    'nosql',\n",
    "    'pandas',\n",
    "    'numpy',\n",
    "    'matpotlib',\n",
    "    'seabron',\n",
    "    'scipy'\n",
    "]"
   ]
  },
  {
   "cell_type": "code",
   "execution_count": 5,
   "id": "e357b1cb",
   "metadata": {},
   "outputs": [
    {
     "data": {
      "text/plain": [
       "str"
      ]
     },
     "execution_count": 5,
     "metadata": {},
     "output_type": "execute_result"
    }
   ],
   "source": [
    "type((d1.Skills[0]))"
   ]
  },
  {
   "cell_type": "code",
   "execution_count": 6,
   "id": "69c88c5a",
   "metadata": {},
   "outputs": [],
   "source": [
    "#changing string to list\n",
    "for i in range (len(d1.Skills)):\n",
    "    (d1.Skills[i]) = ast.literal_eval(d1.Skills[i])\n",
    "    \n"
   ]
  },
  {
   "cell_type": "code",
   "execution_count": 7,
   "id": "515ed1ef",
   "metadata": {},
   "outputs": [
    {
     "data": {
      "text/plain": [
       "list"
      ]
     },
     "execution_count": 7,
     "metadata": {},
     "output_type": "execute_result"
    }
   ],
   "source": [
    "type((d1.Skills[0]))"
   ]
  },
  {
   "cell_type": "code",
   "execution_count": 8,
   "id": "6bbbca4a",
   "metadata": {},
   "outputs": [],
   "source": [
    "#removing duplicates of skills\n",
    "for i in range (len(d1.Skills)):\n",
    "    d1.Skills[i] = list(dict.fromkeys(d1.Skills[i]))\n",
    "    \n"
   ]
  },
  {
   "cell_type": "code",
   "execution_count": 15,
   "id": "b0e7f664",
   "metadata": {},
   "outputs": [],
   "source": [
    "#to find disignation\n",
    "c1=0\n",
    "c2=0\n",
    "li=[]\n",
    "for i in range (len(d1.Skills)):\n",
    "    for j in range (len(d1.Skills[i])):\n",
    "        if((d1.Skills[i])[j] in web_devloper_skills):\n",
    "            c1=c1+1\n",
    "        if((d1.Skills[i])[j] in machine_learning_skills):\n",
    "            c2=c2+1    \n",
    "    \n",
    "    if(c1>=3 or c2>=3):\n",
    "        if(c1>c2):\n",
    "            li.append(\"web developer\")\n",
    "        elif(c2>c1):\n",
    "            li.append(\"machine learning developer\")\n",
    "        else:\n",
    "            li.append(\"Both\")\n",
    "    else:\n",
    "        li.append(\"Not eligible\")\n",
    "        \n",
    "    c1=0\n",
    "    c2=0\n"
   ]
  },
  {
   "cell_type": "code",
   "execution_count": 16,
   "id": "32aa0c0d",
   "metadata": {},
   "outputs": [],
   "source": [
    "#to find total courses\n",
    "li2=[]\n",
    "for i in range (len(d1.Skills)):\n",
    "    li2.append(len(d1.Skills[i]))\n",
    "    \n"
   ]
  },
  {
   "cell_type": "code",
   "execution_count": 17,
   "id": "fca775fc",
   "metadata": {},
   "outputs": [],
   "source": [
    "d1[\"Disignation\"]=li"
   ]
  },
  {
   "cell_type": "code",
   "execution_count": 18,
   "id": "f716051f",
   "metadata": {},
   "outputs": [],
   "source": [
    "d1[\"Total skills\"]=li2"
   ]
  },
  {
   "cell_type": "code",
   "execution_count": 19,
   "id": "b4587f0c",
   "metadata": {},
   "outputs": [
    {
     "data": {
      "text/html": [
       "<div>\n",
       "<style scoped>\n",
       "    .dataframe tbody tr th:only-of-type {\n",
       "        vertical-align: middle;\n",
       "    }\n",
       "\n",
       "    .dataframe tbody tr th {\n",
       "        vertical-align: top;\n",
       "    }\n",
       "\n",
       "    .dataframe thead th {\n",
       "        text-align: right;\n",
       "    }\n",
       "</style>\n",
       "<table border=\"1\" class=\"dataframe\">\n",
       "  <thead>\n",
       "    <tr style=\"text-align: right;\">\n",
       "      <th></th>\n",
       "      <th>Name</th>\n",
       "      <th>Skills</th>\n",
       "      <th>Disignation</th>\n",
       "      <th>Total skills</th>\n",
       "    </tr>\n",
       "  </thead>\n",
       "  <tbody>\n",
       "    <tr>\n",
       "      <th>0</th>\n",
       "      <td>Maurice Valdez</td>\n",
       "      <td>[reactjs, django, numpy, nodejs, html]</td>\n",
       "      <td>web developer</td>\n",
       "      <td>5</td>\n",
       "    </tr>\n",
       "    <tr>\n",
       "      <th>1</th>\n",
       "      <td>Samuel Green</td>\n",
       "      <td>[laravel, css]</td>\n",
       "      <td>Not eligible</td>\n",
       "      <td>2</td>\n",
       "    </tr>\n",
       "    <tr>\n",
       "      <th>2</th>\n",
       "      <td>Michael Rodgers</td>\n",
       "      <td>[css, reactjs, flask, nodejs]</td>\n",
       "      <td>web developer</td>\n",
       "      <td>4</td>\n",
       "    </tr>\n",
       "    <tr>\n",
       "      <th>3</th>\n",
       "      <td>Lindsey Leach</td>\n",
       "      <td>[nodejs, html, reactjs]</td>\n",
       "      <td>web developer</td>\n",
       "      <td>3</td>\n",
       "    </tr>\n",
       "    <tr>\n",
       "      <th>4</th>\n",
       "      <td>Kimberly Hartman</td>\n",
       "      <td>[matpotlib, nosql]</td>\n",
       "      <td>Not eligible</td>\n",
       "      <td>2</td>\n",
       "    </tr>\n",
       "    <tr>\n",
       "      <th>5</th>\n",
       "      <td>Benjamin Garcia</td>\n",
       "      <td>[numpy, scipy, matpotlib, nosql, nodejs]</td>\n",
       "      <td>machine learning developer</td>\n",
       "      <td>5</td>\n",
       "    </tr>\n",
       "    <tr>\n",
       "      <th>6</th>\n",
       "      <td>Ernest Brown</td>\n",
       "      <td>[scipy, pandas, nodejs]</td>\n",
       "      <td>Not eligible</td>\n",
       "      <td>3</td>\n",
       "    </tr>\n",
       "  </tbody>\n",
       "</table>\n",
       "</div>"
      ],
      "text/plain": [
       "               Name                                    Skills  \\\n",
       "0    Maurice Valdez    [reactjs, django, numpy, nodejs, html]   \n",
       "1      Samuel Green                            [laravel, css]   \n",
       "2   Michael Rodgers             [css, reactjs, flask, nodejs]   \n",
       "3     Lindsey Leach                   [nodejs, html, reactjs]   \n",
       "4  Kimberly Hartman                        [matpotlib, nosql]   \n",
       "5   Benjamin Garcia  [numpy, scipy, matpotlib, nosql, nodejs]   \n",
       "6      Ernest Brown                   [scipy, pandas, nodejs]   \n",
       "\n",
       "                  Disignation  Total skills  \n",
       "0               web developer             5  \n",
       "1                Not eligible             2  \n",
       "2               web developer             4  \n",
       "3               web developer             3  \n",
       "4                Not eligible             2  \n",
       "5  machine learning developer             5  \n",
       "6                Not eligible             3  "
      ]
     },
     "execution_count": 19,
     "metadata": {},
     "output_type": "execute_result"
    }
   ],
   "source": [
    "d1.head(7)"
   ]
  },
  {
   "cell_type": "code",
   "execution_count": 20,
   "id": "472535e5",
   "metadata": {},
   "outputs": [],
   "source": [
    "d1.to_excel(r'D:\\csv files\\skills_disignation.xlsx', index = False)\n"
   ]
  },
  {
   "cell_type": "code",
   "execution_count": null,
   "id": "60e088d4",
   "metadata": {},
   "outputs": [],
   "source": []
  }
 ],
 "metadata": {
  "kernelspec": {
   "display_name": "Python 3 (ipykernel)",
   "language": "python",
   "name": "python3"
  },
  "language_info": {
   "codemirror_mode": {
    "name": "ipython",
    "version": 3
   },
   "file_extension": ".py",
   "mimetype": "text/x-python",
   "name": "python",
   "nbconvert_exporter": "python",
   "pygments_lexer": "ipython3",
   "version": "3.9.7"
  }
 },
 "nbformat": 4,
 "nbformat_minor": 5
}
